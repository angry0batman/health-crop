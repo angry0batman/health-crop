{
 "cells": [
  {
   "cell_type": "code",
   "execution_count": 2,
   "metadata": {},
   "outputs": [
    {
     "name": "stdout",
     "output_type": "stream",
     "text": [
      "Found 1032 images belonging to 2 classes.\n",
      "Found 257 images belonging to 2 classes.\n",
      "Epoch 1/6\n",
      "33/33 [==============================] - 39s 1s/step - loss: 0.7658 - accuracy: 0.7616 - val_loss: 0.3598 - val_accuracy: 0.7743\n",
      "Epoch 2/6\n",
      "33/33 [==============================] - 31s 872ms/step - loss: 0.3230 - accuracy: 0.8314 - val_loss: 0.4522 - val_accuracy: 0.8249\n",
      "Epoch 3/6\n",
      "33/33 [==============================] - 18s 540ms/step - loss: 0.3562 - accuracy: 0.8372 - val_loss: 0.3227 - val_accuracy: 0.8405\n",
      "Epoch 4/6\n",
      "33/33 [==============================] - 18s 534ms/step - loss: 0.2360 - accuracy: 0.9079 - val_loss: 0.2052 - val_accuracy: 0.9416\n",
      "Epoch 5/6\n",
      "33/33 [==============================] - 18s 536ms/step - loss: 0.1462 - accuracy: 0.9603 - val_loss: 0.2388 - val_accuracy: 0.9300\n",
      "Epoch 6/6\n",
      "33/33 [==============================] - 19s 595ms/step - loss: 0.1603 - accuracy: 0.9448 - val_loss: 0.2253 - val_accuracy: 0.9105\n"
     ]
    }
   ],
   "source": [
    "import os\n",
    "import tensorflow as tf\n",
    "from tensorflow.keras.preprocessing.image import ImageDataGenerator\n",
    "from tensorflow.keras.models import Sequential\n",
    "from tensorflow.keras.layers import Conv2D, MaxPooling2D, Flatten, Dense, Dropout\n",
    "from tensorflow.keras.callbacks import EarlyStopping, ModelCheckpoint\n",
    "\n",
    "# Path to dataset\n",
    "train_directory = r'C:\\Users\\chand\\Desktop\\Projects\\Ml models\\crop health analysis\\PlantVillage\\train'\n",
    "\n",
    "# Ensure the directory exists\n",
    "if not os.path.exists(train_directory):\n",
    "    raise FileNotFoundError(f\"The directory {train_directory} does not exist.\")\n",
    "\n",
    "# Ensure there are subdirectories in the train directory\n",
    "if not any(os.path.isdir(os.path.join(train_directory, subdir)) for subdir in os.listdir(train_directory)):\n",
    "    raise ValueError(f\"The directory {train_directory} does not contain any subdirectories representing classes.\")\n",
    "\n",
    "# Data preprocessing\n",
    "train_datagen = ImageDataGenerator(rescale=1./255, validation_split=0.2)\n",
    "train_generator = train_datagen.flow_from_directory(\n",
    "    train_directory,\n",
    "    target_size=(150, 150),\n",
    "    batch_size=32,\n",
    "    class_mode='categorical',\n",
    "    subset='training'\n",
    ")\n",
    "validation_generator = train_datagen.flow_from_directory(\n",
    "    train_directory,\n",
    "    target_size=(150, 150),\n",
    "    batch_size=32,\n",
    "    class_mode='categorical',\n",
    "    subset='validation'\n",
    ")\n",
    "\n",
    "# Model architecture\n",
    "model = Sequential([\n",
    "    Conv2D(32, (3, 3), activation='relu', input_shape=(150, 150, 3)),\n",
    "    MaxPooling2D((2, 2)),\n",
    "    Conv2D(64, (3, 3), activation='relu'),\n",
    "    MaxPooling2D((2, 2)),\n",
    "    Conv2D(128, (3, 3), activation='relu'),\n",
    "    MaxPooling2D((2, 2)),\n",
    "    Flatten(),\n",
    "    Dense(512, activation='relu'),\n",
    "    Dropout(0.5),\n",
    "    Dense(train_generator.num_classes, activation='softmax')\n",
    "])\n",
    "\n",
    "model.compile(optimizer='adam', loss='categorical_crossentropy', metrics=['accuracy'])\n",
    "\n",
    "# Training the model\n",
    "early_stopping = EarlyStopping(monitor='val_loss', patience=5)\n",
    "model_checkpoint = ModelCheckpoint('best_model.h5', save_best_only=True)\n",
    "\n",
    "history = model.fit(\n",
    "    train_generator,\n",
    "    epochs=6,\n",
    "    validation_data=validation_generator,\n",
    "    callbacks=[early_stopping, model_checkpoint]\n",
    ")\n",
    "\n",
    "# Save the trained model\n",
    "model.save('crop_health_model.h5')\n"
   ]
  }
 ],
 "metadata": {
  "kernelspec": {
   "display_name": "base",
   "language": "python",
   "name": "python3"
  },
  "language_info": {
   "codemirror_mode": {
    "name": "ipython",
    "version": 3
   },
   "file_extension": ".py",
   "mimetype": "text/x-python",
   "name": "python",
   "nbconvert_exporter": "python",
   "pygments_lexer": "ipython3",
   "version": "3.11.5"
  }
 },
 "nbformat": 4,
 "nbformat_minor": 2
}
